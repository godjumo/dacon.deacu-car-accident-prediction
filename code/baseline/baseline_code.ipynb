{
  "cells": [
    {
      "cell_type": "markdown",
      "metadata": {
        "id": "3x8lYC0B4TmP"
      },
      "source": [
        "Setting Data"
      ]
    },
    {
      "cell_type": "code",
      "execution_count": 3,
      "metadata": {
        "colab": {
          "base_uri": "https://localhost:8080/"
        },
        "id": "nRTwHaZx4t3j",
        "outputId": "073a0e8e-b38a-4f64-831e-aa8b514d1215"
      },
      "outputs": [
        {
          "name": "stdout",
          "output_type": "stream",
          "text": [
            "Collecting catboost\n",
            "  Downloading catboost-1.2.2-cp310-cp310-manylinux2014_x86_64.whl (98.7 MB)\n",
            "\u001b[2K     \u001b[90m━━━━━━━━━━━━━━━━━━━━━━━━━━━━━━━━━━━━━━━━\u001b[0m \u001b[32m98.7/98.7 MB\u001b[0m \u001b[31m7.0 MB/s\u001b[0m eta \u001b[36m0:00:00\u001b[0m\n",
            "\u001b[?25hRequirement already satisfied: graphviz in /usr/local/lib/python3.10/dist-packages (from catboost) (0.20.1)\n",
            "Requirement already satisfied: matplotlib in /usr/local/lib/python3.10/dist-packages (from catboost) (3.7.1)\n",
            "Requirement already satisfied: numpy>=1.16.0 in /usr/local/lib/python3.10/dist-packages (from catboost) (1.23.5)\n",
            "Requirement already satisfied: pandas>=0.24 in /usr/local/lib/python3.10/dist-packages (from catboost) (1.5.3)\n",
            "Requirement already satisfied: scipy in /usr/local/lib/python3.10/dist-packages (from catboost) (1.11.4)\n",
            "Requirement already satisfied: plotly in /usr/local/lib/python3.10/dist-packages (from catboost) (5.15.0)\n",
            "Requirement already satisfied: six in /usr/local/lib/python3.10/dist-packages (from catboost) (1.16.0)\n",
            "Requirement already satisfied: python-dateutil>=2.8.1 in /usr/local/lib/python3.10/dist-packages (from pandas>=0.24->catboost) (2.8.2)\n",
            "Requirement already satisfied: pytz>=2020.1 in /usr/local/lib/python3.10/dist-packages (from pandas>=0.24->catboost) (2023.3.post1)\n",
            "Requirement already satisfied: contourpy>=1.0.1 in /usr/local/lib/python3.10/dist-packages (from matplotlib->catboost) (1.2.0)\n",
            "Requirement already satisfied: cycler>=0.10 in /usr/local/lib/python3.10/dist-packages (from matplotlib->catboost) (0.12.1)\n",
            "Requirement already satisfied: fonttools>=4.22.0 in /usr/local/lib/python3.10/dist-packages (from matplotlib->catboost) (4.45.1)\n",
            "Requirement already satisfied: kiwisolver>=1.0.1 in /usr/local/lib/python3.10/dist-packages (from matplotlib->catboost) (1.4.5)\n",
            "Requirement already satisfied: packaging>=20.0 in /usr/local/lib/python3.10/dist-packages (from matplotlib->catboost) (23.2)\n",
            "Requirement already satisfied: pillow>=6.2.0 in /usr/local/lib/python3.10/dist-packages (from matplotlib->catboost) (9.4.0)\n",
            "Requirement already satisfied: pyparsing>=2.3.1 in /usr/local/lib/python3.10/dist-packages (from matplotlib->catboost) (3.1.1)\n",
            "Requirement already satisfied: tenacity>=6.2.0 in /usr/local/lib/python3.10/dist-packages (from plotly->catboost) (8.2.3)\n",
            "Installing collected packages: catboost\n",
            "Successfully installed catboost-1.2.2\n"
          ]
        }
      ],
      "source": [
        "pip install catboost"
      ]
    },
    {
      "cell_type": "code",
      "execution_count": 4,
      "metadata": {
        "id": "Evs9qp-MV0Ek"
      },
      "outputs": [],
      "source": [
        "# load modules\n",
        "import numpy as np\n",
        "import pandas as pd\n",
        "\n",
        "# split\n",
        "from sklearn.model_selection import train_test_split\n",
        "\n",
        "# models\n",
        "from xgboost import XGBRegressor\n",
        "from lightgbm import LGBMRegressor\n",
        "from catboost import CatBoostRegressor\n",
        "\n",
        "# metrics\n",
        "from sklearn.metrics import mean_squared_log_error"
      ]
    },
    {
      "cell_type": "code",
      "execution_count": 5,
      "metadata": {
        "id": "fxCbAj4_WVeA"
      },
      "outputs": [],
      "source": [
        "# load data\n",
        "train = pd.read_csv('./data/train.csv')\n",
        "test = pd.read_csv('./data/test.csv')"
      ]
    },
    {
      "cell_type": "code",
      "execution_count": 6,
      "metadata": {
        "id": "G6o_uqFCWfbr"
      },
      "outputs": [],
      "source": [
        "# 필요한 데이터만 가져오기\n",
        "use_train = train[['사고일시', '요일', '기상상태', '도로형태', '노면상태', '사고유형', '시군구', '중상자수']]\n",
        "#  'ID'를 제외한 모든 열을 선택한 새로운 데이터프레임을 생성\n",
        "use_test = test[test.columns.difference(['ID'])]"
      ]
    },
    {
      "cell_type": "markdown",
      "metadata": {
        "id": "-NSQdm3W5Grw"
      },
      "source": [
        "Data Preprocessing"
      ]
    },
    {
      "cell_type": "code",
      "execution_count": 7,
      "metadata": {
        "id": "gnbKxaqP5IYH"
      },
      "outputs": [],
      "source": [
        "# train 데이터프레임에 대한 one-hot encoding 및 열 삭제\n",
        "use_train2 = pd.concat([use_train, pd.get_dummies(use_train[['기상상태', '도로형태', '노면상태', '사고유형']], drop_first=True)], axis=1).drop(['기상상태', '도로형태', '노면상태', '사고유형'], axis=1)\n",
        "\n",
        "# test 데이터프레임에 대한 one-hot encoding 및 열 삭제\n",
        "use_test2 = pd.concat([use_test, pd.get_dummies(test[['기상상태', '도로형태', '노면상태', '사고유형']], drop_first=True)], axis=1).drop(['기상상태', '도로형태', '노면상태', '사고유형'], axis=1)"
      ]
    },
    {
      "cell_type": "code",
      "execution_count": 8,
      "metadata": {
        "id": "0sYCJq_-5iUy"
      },
      "outputs": [],
      "source": [
        "# 요일 월~금: 0 토~일:1\n",
        "# train 데이터프레임에 대한 '주말' 열 생성 및 '요일' 열 삭제\n",
        "use_train2['주말'] = use_train2['요일'].apply(lambda x: 0 if x in ['월요일', '화요일', '수요일', '목요일', '금요일'] else 1)\n",
        "use_train3 = use_train2.drop(['요일'], axis=1)\n",
        "\n",
        "# test 데이터프레임에 대한 '주말' 열 생성 및 '요일' 열 삭제\n",
        "use_test2['주말'] = use_test2['요일'].apply(lambda x: 0 if x in ['월요일', '화요일', '수요일', '목요일', '금요일'] else 1)\n",
        "use_test3 = use_test2.drop(['요일'], axis=1)"
      ]
    },
    {
      "cell_type": "code",
      "execution_count": 9,
      "metadata": {
        "id": "fU7OnMgz59Sy"
      },
      "outputs": [],
      "source": [
        "# 사고일시 나누기\n",
        "## date type data\n",
        "use_train3['사고일시'] = pd.to_datetime(use_train3['사고일시'])\n",
        "use_test3['사고일시'] = pd.to_datetime(use_test3['사고일시'])"
      ]
    },
    {
      "cell_type": "code",
      "execution_count": 10,
      "metadata": {
        "id": "EgEtPBsA6DQv"
      },
      "outputs": [],
      "source": [
        "# split year, month, day, hour\n",
        "use_train3['year'] = use_train3['사고일시'].dt.year\n",
        "use_train3['month'] = use_train3['사고일시'].dt.month\n",
        "use_train3['day'] = use_train3['사고일시'].dt.day\n",
        "use_train3['hour'] = use_train3['사고일시'].dt.hour\n",
        "\n",
        "use_test3['year'] = use_test3['사고일시'].dt.year\n",
        "use_test3['month'] = use_test3['사고일시'].dt.month\n",
        "use_test3['day'] = use_test3['사고일시'].dt.day\n",
        "use_test3['hour'] = use_test3['사고일시'].dt.hour"
      ]
    },
    {
      "cell_type": "code",
      "execution_count": 11,
      "metadata": {
        "id": "nLbr_Qhn6DzJ"
      },
      "outputs": [],
      "source": [
        "# 시군구 나누기\n",
        "use_train3[['시', '구', '동가']] = use_train3['시군구'].str.split(' ', expand = True)\n",
        "use_train4 = use_train3.drop(['사고일시', '시군구', '시', 'year'], axis = 1)\n",
        "\n",
        "use_test3[['시', '구', '동가']] = use_test3['시군구'].str.split(' ', expand = True)\n",
        "use_test4 = use_test3.drop(['사고일시', '시군구', '시', 'year'], axis = 1)"
      ]
    },
    {
      "cell_type": "code",
      "execution_count": 12,
      "metadata": {
        "id": "j0meJpic6JFx"
      },
      "outputs": [],
      "source": [
        "# type change\n",
        "use_train4['구'] = use_train4['구'].astype('category')\n",
        "use_train4['동가'] = use_train4['동가'].astype('category')\n",
        "\n",
        "use_test4['구'] = use_test4['구'].astype('category')\n",
        "use_test4['동가'] = use_test4['동가'].astype('category')"
      ]
    },
    {
      "cell_type": "code",
      "execution_count": 13,
      "metadata": {
        "id": "Bo5tZrT16Jq7"
      },
      "outputs": [],
      "source": [
        "# 구와 동가 제거\n",
        "use_train5 = use_train4[use_train4.columns.difference(['구', '동가'])]\n",
        "use_test5 = use_test4[use_test4.columns.difference(['구', '동가'])]"
      ]
    },
    {
      "cell_type": "code",
      "execution_count": 24,
      "metadata": {
        "id": "66tdL7IpJsFJ"
      },
      "outputs": [],
      "source": [
        "# 기상정보_안개 추가\n",
        "use_test4['기상상태_안개']  = 0"
      ]
    },
    {
      "cell_type": "code",
      "execution_count": 15,
      "metadata": {
        "id": "2-S3Tajv63SM"
      },
      "outputs": [],
      "source": [
        "# use_train5.columns.to_list()\n",
        "# use_train4.dtypes\n",
        "# use_train4['중상자수']\n",
        "# use_train4['중상자수'] = use_train4['중상자수'].astype('int64')"
      ]
    },
    {
      "cell_type": "markdown",
      "metadata": {
        "id": "wqyErQZ-6arP"
      },
      "source": [
        "Modeling"
      ]
    },
    {
      "cell_type": "code",
      "execution_count": 16,
      "metadata": {
        "id": "dbQJjiGO6NnF"
      },
      "outputs": [],
      "source": [
        "## 3. hold-out train test split\n",
        "x_train, x_valid, y_train, y_valid = train_test_split(use_train4[use_train4.columns.difference(['중상자수'])],\n",
        "                                                      use_train4['중상자수'],\n",
        "                                                      test_size = 0.3,\n",
        "                                                      random_state = 42\n",
        "                                                    )"
      ]
    },
    {
      "cell_type": "code",
      "execution_count": 17,
      "metadata": {
        "id": "WJDyf6MFArCr"
      },
      "outputs": [],
      "source": [
        "# category values\n",
        "labels = x_train.dtypes.reset_index()\n",
        "categorical_cols = list(labels[labels[0] == 'category'].index)"
      ]
    },
    {
      "cell_type": "code",
      "execution_count": 18,
      "metadata": {
        "id": "01sipbHL6cop"
      },
      "outputs": [],
      "source": [
        "# model\n",
        "xgb = XGBRegressor(objective='count:poisson',\n",
        "                    random_state = 42,\n",
        "                    use_label_encoder=False,\n",
        "                    enable_categorical=True,\n",
        "                    tree_method='hist',\n",
        "                    n_estimators=80\n",
        "                    )\n",
        "lgbm = LGBMRegressor(\n",
        "    objective='poisson',\n",
        "    random_state = 42,\n",
        "     n_estimators=80\n",
        ")\n",
        "cb = CatBoostRegressor(\n",
        "    cat_features = categorical_cols,\n",
        "    objective = 'Poisson',\n",
        "    random_state = 42,\n",
        "    iterations=80\n",
        ")"
      ]
    },
    {
      "cell_type": "code",
      "execution_count": 19,
      "metadata": {},
      "outputs": [
        {
          "name": "stdout",
          "output_type": "stream",
          "text": [
            "<class 'pandas.core.frame.DataFrame'>\n",
            "Index: 27726 entries, 29542 to 15795\n",
            "Data columns (total 28 columns):\n",
            " #   Column                Non-Null Count  Dtype   \n",
            "---  ------                --------------  -----   \n",
            " 0   day                   27726 non-null  int32   \n",
            " 1   hour                  27726 non-null  int32   \n",
            " 2   month                 27726 non-null  int32   \n",
            " 3   구                     27726 non-null  category\n",
            " 4   기상상태_눈                27726 non-null  bool    \n",
            " 5   기상상태_맑음               27726 non-null  bool    \n",
            " 6   기상상태_비                27726 non-null  bool    \n",
            " 7   기상상태_안개               27726 non-null  bool    \n",
            " 8   기상상태_흐림               27726 non-null  bool    \n",
            " 9   노면상태_기타               27726 non-null  bool    \n",
            " 10  노면상태_서리/결빙            27726 non-null  bool    \n",
            " 11  노면상태_적설               27726 non-null  bool    \n",
            " 12  노면상태_젖음/습기            27726 non-null  bool    \n",
            " 13  노면상태_침수               27726 non-null  bool    \n",
            " 14  도로형태_교차로 - 교차로안       27726 non-null  bool    \n",
            " 15  도로형태_교차로 - 교차로횡단보도내   27726 non-null  bool    \n",
            " 16  도로형태_기타 - 기타          27726 non-null  bool    \n",
            " 17  도로형태_단일로 - 고가도로위      27726 non-null  bool    \n",
            " 18  도로형태_단일로 - 교량         27726 non-null  bool    \n",
            " 19  도로형태_단일로 - 기타         27726 non-null  bool    \n",
            " 20  도로형태_단일로 - 지하차도(도로)내  27726 non-null  bool    \n",
            " 21  도로형태_단일로 - 터널         27726 non-null  bool    \n",
            " 22  도로형태_미분류 - 미분류        27726 non-null  bool    \n",
            " 23  도로형태_주차장 - 주차장        27726 non-null  bool    \n",
            " 24  동가                    27726 non-null  category\n",
            " 25  사고유형_차대차              27726 non-null  bool    \n",
            " 26  사고유형_차량단독             27726 non-null  bool    \n",
            " 27  주말                    27726 non-null  int64   \n",
            "dtypes: bool(22), category(2), int32(3), int64(1)\n",
            "memory usage: 1.4 MB\n"
          ]
        }
      ],
      "source": [
        "x_train.info()"
      ]
    },
    {
      "cell_type": "code",
      "execution_count": 20,
      "metadata": {},
      "outputs": [
        {
          "data": {
            "text/plain": [
              "day                        int32\n",
              "hour                       int32\n",
              "month                      int32\n",
              "구                       category\n",
              "기상상태_눈                      bool\n",
              "기상상태_맑음                     bool\n",
              "기상상태_비                      bool\n",
              "기상상태_안개                     bool\n",
              "기상상태_흐림                     bool\n",
              "노면상태_기타                     bool\n",
              "노면상태_서리/결빙                  bool\n",
              "노면상태_적설                     bool\n",
              "노면상태_젖음/습기                  bool\n",
              "노면상태_침수                     bool\n",
              "도로형태_교차로 - 교차로안             bool\n",
              "도로형태_교차로 - 교차로횡단보도내         bool\n",
              "도로형태_기타 - 기타                bool\n",
              "도로형태_단일로 - 고가도로위            bool\n",
              "도로형태_단일로 - 교량               bool\n",
              "도로형태_단일로 - 기타               bool\n",
              "도로형태_단일로 - 지하차도(도로)내        bool\n",
              "도로형태_단일로 - 터널               bool\n",
              "도로형태_미분류 - 미분류              bool\n",
              "도로형태_주차장 - 주차장              bool\n",
              "동가                      category\n",
              "사고유형_차대차                    bool\n",
              "사고유형_차량단독                   bool\n",
              "주말                         int64\n",
              "dtype: object"
            ]
          },
          "execution_count": 20,
          "metadata": {},
          "output_type": "execute_result"
        }
      ],
      "source": [
        "x_train.dtypes"
      ]
    },
    {
      "cell_type": "code",
      "execution_count": 21,
      "metadata": {
        "colab": {
          "base_uri": "https://localhost:8080/",
          "height": 1000,
          "referenced_widgets": [
            "a38960f6a9bc4a16b726232e6d62ab4c"
          ]
        },
        "id": "Gzb_ZJPY8R3g",
        "outputId": "6d11ecd9-813e-4f5a-cd81-d7ac0dad2794"
      },
      "outputs": [
        {
          "data": {
            "application/vnd.jupyter.widget-view+json": {
              "model_id": "1cebcd671c9947379bdc61d6edd3a1ff",
              "version_major": 2,
              "version_minor": 0
            },
            "text/plain": [
              "MetricVisualizer(layout=Layout(align_self='stretch', height='500px'))"
            ]
          },
          "metadata": {},
          "output_type": "display_data"
        },
        {
          "name": "stdout",
          "output_type": "stream",
          "text": [
            "0:\tlearn: 0.9709695\ttest: 0.9705568\tbest: 0.9705568 (0)\ttotal: 375ms\tremaining: 29.6s\n",
            "1:\tlearn: 0.9446251\ttest: 0.9438926\tbest: 0.9438926 (1)\ttotal: 488ms\tremaining: 19s\n",
            "2:\tlearn: 0.9200798\ttest: 0.9189530\tbest: 0.9189530 (2)\ttotal: 638ms\tremaining: 16.4s\n",
            "3:\tlearn: 0.8978606\ttest: 0.8964162\tbest: 0.8964162 (3)\ttotal: 722ms\tremaining: 13.7s\n",
            "4:\tlearn: 0.8768227\ttest: 0.8750279\tbest: 0.8750279 (4)\ttotal: 865ms\tremaining: 13s\n",
            "5:\tlearn: 0.8580159\ttest: 0.8559081\tbest: 0.8559081 (5)\ttotal: 948ms\tremaining: 11.7s\n",
            "6:\tlearn: 0.8407160\ttest: 0.8383088\tbest: 0.8383088 (6)\ttotal: 1.05s\tremaining: 11s\n",
            "7:\tlearn: 0.8242951\ttest: 0.8215979\tbest: 0.8215979 (7)\ttotal: 1.18s\tremaining: 10.7s\n",
            "8:\tlearn: 0.8095130\ttest: 0.8065655\tbest: 0.8065655 (8)\ttotal: 1.3s\tremaining: 10.2s\n",
            "9:\tlearn: 0.7957326\ttest: 0.7924987\tbest: 0.7924987 (9)\ttotal: 1.37s\tremaining: 9.62s\n",
            "10:\tlearn: 0.7830974\ttest: 0.7796117\tbest: 0.7796117 (10)\ttotal: 1.48s\tremaining: 9.27s\n",
            "11:\tlearn: 0.7713389\ttest: 0.7675961\tbest: 0.7675961 (11)\ttotal: 1.55s\tremaining: 8.8s\n",
            "12:\tlearn: 0.7604957\ttest: 0.7565129\tbest: 0.7565129 (12)\ttotal: 1.7s\tremaining: 8.75s\n",
            "13:\tlearn: 0.7504379\ttest: 0.7462378\tbest: 0.7462378 (13)\ttotal: 1.8s\tremaining: 8.51s\n",
            "14:\tlearn: 0.7408963\ttest: 0.7364238\tbest: 0.7364238 (14)\ttotal: 1.89s\tremaining: 8.21s\n",
            "15:\tlearn: 0.7319060\ttest: 0.7272206\tbest: 0.7272206 (15)\ttotal: 2s\tremaining: 8s\n",
            "16:\tlearn: 0.7239071\ttest: 0.7190180\tbest: 0.7190180 (16)\ttotal: 2.17s\tremaining: 8.03s\n",
            "17:\tlearn: 0.7164399\ttest: 0.7113744\tbest: 0.7113744 (17)\ttotal: 2.33s\tremaining: 8.04s\n",
            "18:\tlearn: 0.7092097\ttest: 0.7039100\tbest: 0.7039100 (18)\ttotal: 2.48s\tremaining: 7.97s\n",
            "19:\tlearn: 0.7028136\ttest: 0.6973193\tbest: 0.6973193 (19)\ttotal: 2.6s\tremaining: 7.82s\n",
            "20:\tlearn: 0.6967979\ttest: 0.6911447\tbest: 0.6911447 (20)\ttotal: 2.75s\tremaining: 7.73s\n",
            "21:\tlearn: 0.6912563\ttest: 0.6854334\tbest: 0.6854334 (21)\ttotal: 2.84s\tremaining: 7.5s\n",
            "22:\tlearn: 0.6860562\ttest: 0.6800869\tbest: 0.6800869 (22)\ttotal: 3s\tremaining: 7.42s\n",
            "23:\tlearn: 0.6810962\ttest: 0.6749153\tbest: 0.6749153 (23)\ttotal: 3.1s\tremaining: 7.23s\n",
            "24:\tlearn: 0.6764065\ttest: 0.6700389\tbest: 0.6700389 (24)\ttotal: 3.21s\tremaining: 7.06s\n",
            "25:\tlearn: 0.6722895\ttest: 0.6657688\tbest: 0.6657688 (25)\ttotal: 3.32s\tremaining: 6.9s\n",
            "26:\tlearn: 0.6683547\ttest: 0.6617206\tbest: 0.6617206 (26)\ttotal: 3.43s\tremaining: 6.74s\n",
            "27:\tlearn: 0.6645225\ttest: 0.6576997\tbest: 0.6576997 (27)\ttotal: 3.55s\tremaining: 6.6s\n",
            "28:\tlearn: 0.6611546\ttest: 0.6541806\tbest: 0.6541806 (28)\ttotal: 3.73s\tremaining: 6.57s\n",
            "29:\tlearn: 0.6580669\ttest: 0.6509564\tbest: 0.6509564 (29)\ttotal: 3.9s\tremaining: 6.49s\n",
            "30:\tlearn: 0.6550175\ttest: 0.6477563\tbest: 0.6477563 (30)\ttotal: 4.03s\tremaining: 6.37s\n",
            "31:\tlearn: 0.6522974\ttest: 0.6449361\tbest: 0.6449361 (31)\ttotal: 4.32s\tremaining: 6.47s\n",
            "32:\tlearn: 0.6496823\ttest: 0.6422012\tbest: 0.6422012 (32)\ttotal: 4.53s\tremaining: 6.46s\n",
            "33:\tlearn: 0.6472063\ttest: 0.6395619\tbest: 0.6395619 (33)\ttotal: 4.63s\tremaining: 6.27s\n",
            "34:\tlearn: 0.6448644\ttest: 0.6370664\tbest: 0.6370664 (34)\ttotal: 4.73s\tremaining: 6.08s\n",
            "35:\tlearn: 0.6427560\ttest: 0.6348388\tbest: 0.6348388 (35)\ttotal: 4.8s\tremaining: 5.87s\n",
            "36:\tlearn: 0.6408162\ttest: 0.6327999\tbest: 0.6327999 (36)\ttotal: 4.91s\tremaining: 5.7s\n",
            "37:\tlearn: 0.6390423\ttest: 0.6309175\tbest: 0.6309175 (37)\ttotal: 4.97s\tremaining: 5.49s\n",
            "38:\tlearn: 0.6373916\ttest: 0.6291587\tbest: 0.6291587 (38)\ttotal: 5.04s\tremaining: 5.3s\n",
            "39:\tlearn: 0.6356478\ttest: 0.6273007\tbest: 0.6273007 (39)\ttotal: 5.24s\tremaining: 5.24s\n",
            "40:\tlearn: 0.6341637\ttest: 0.6257288\tbest: 0.6257288 (40)\ttotal: 5.33s\tremaining: 5.07s\n",
            "41:\tlearn: 0.6327457\ttest: 0.6242179\tbest: 0.6242179 (41)\ttotal: 5.4s\tremaining: 4.89s\n",
            "42:\tlearn: 0.6314003\ttest: 0.6227924\tbest: 0.6227924 (42)\ttotal: 5.47s\tremaining: 4.71s\n",
            "43:\tlearn: 0.6301985\ttest: 0.6215110\tbest: 0.6215110 (43)\ttotal: 5.56s\tremaining: 4.55s\n",
            "44:\tlearn: 0.6290977\ttest: 0.6203208\tbest: 0.6203208 (44)\ttotal: 5.6s\tremaining: 4.36s\n",
            "45:\tlearn: 0.6279011\ttest: 0.6190557\tbest: 0.6190557 (45)\ttotal: 5.68s\tremaining: 4.2s\n",
            "46:\tlearn: 0.6267993\ttest: 0.6178518\tbest: 0.6178518 (46)\ttotal: 5.78s\tremaining: 4.06s\n",
            "47:\tlearn: 0.6256689\ttest: 0.6166232\tbest: 0.6166232 (47)\ttotal: 5.87s\tremaining: 3.91s\n",
            "48:\tlearn: 0.6246602\ttest: 0.6155335\tbest: 0.6155335 (48)\ttotal: 5.96s\tremaining: 3.77s\n",
            "49:\tlearn: 0.6236983\ttest: 0.6145071\tbest: 0.6145071 (49)\ttotal: 6s\tremaining: 3.6s\n",
            "50:\tlearn: 0.6229044\ttest: 0.6136635\tbest: 0.6136635 (50)\ttotal: 6.08s\tremaining: 3.46s\n",
            "51:\tlearn: 0.6221599\ttest: 0.6128822\tbest: 0.6128822 (51)\ttotal: 6.16s\tremaining: 3.32s\n",
            "52:\tlearn: 0.6214285\ttest: 0.6120881\tbest: 0.6120881 (52)\ttotal: 6.28s\tremaining: 3.2s\n",
            "53:\tlearn: 0.6207154\ttest: 0.6112787\tbest: 0.6112787 (53)\ttotal: 6.35s\tremaining: 3.06s\n",
            "54:\tlearn: 0.6201508\ttest: 0.6106495\tbest: 0.6106495 (54)\ttotal: 6.42s\tremaining: 2.92s\n",
            "55:\tlearn: 0.6195702\ttest: 0.6100141\tbest: 0.6100141 (55)\ttotal: 6.46s\tremaining: 2.77s\n",
            "56:\tlearn: 0.6189734\ttest: 0.6093353\tbest: 0.6093353 (56)\ttotal: 6.54s\tremaining: 2.64s\n",
            "57:\tlearn: 0.6185101\ttest: 0.6088128\tbest: 0.6088128 (57)\ttotal: 6.59s\tremaining: 2.5s\n",
            "58:\tlearn: 0.6180488\ttest: 0.6083005\tbest: 0.6083005 (58)\ttotal: 6.67s\tremaining: 2.37s\n",
            "59:\tlearn: 0.6175118\ttest: 0.6076927\tbest: 0.6076927 (59)\ttotal: 6.77s\tremaining: 2.26s\n",
            "60:\tlearn: 0.6169490\ttest: 0.6070838\tbest: 0.6070838 (60)\ttotal: 6.87s\tremaining: 2.14s\n",
            "61:\tlearn: 0.6164642\ttest: 0.6065272\tbest: 0.6065272 (61)\ttotal: 6.95s\tremaining: 2.02s\n",
            "62:\tlearn: 0.6160598\ttest: 0.6060522\tbest: 0.6060522 (62)\ttotal: 7.02s\tremaining: 1.9s\n",
            "63:\tlearn: 0.6156325\ttest: 0.6055704\tbest: 0.6055704 (63)\ttotal: 7.1s\tremaining: 1.77s\n",
            "64:\tlearn: 0.6152548\ttest: 0.6051239\tbest: 0.6051239 (64)\ttotal: 7.18s\tremaining: 1.66s\n",
            "65:\tlearn: 0.6148577\ttest: 0.6046990\tbest: 0.6046990 (65)\ttotal: 7.3s\tremaining: 1.55s\n",
            "66:\tlearn: 0.6144947\ttest: 0.6043291\tbest: 0.6043291 (66)\ttotal: 7.36s\tremaining: 1.43s\n",
            "67:\tlearn: 0.6141270\ttest: 0.6039229\tbest: 0.6039229 (67)\ttotal: 7.44s\tremaining: 1.31s\n",
            "68:\tlearn: 0.6138371\ttest: 0.6036332\tbest: 0.6036332 (68)\ttotal: 7.51s\tremaining: 1.2s\n",
            "69:\tlearn: 0.6135214\ttest: 0.6032676\tbest: 0.6032676 (69)\ttotal: 7.58s\tremaining: 1.08s\n",
            "70:\tlearn: 0.6132778\ttest: 0.6029709\tbest: 0.6029709 (70)\ttotal: 7.63s\tremaining: 967ms\n",
            "71:\tlearn: 0.6130929\ttest: 0.6027487\tbest: 0.6027487 (71)\ttotal: 7.68s\tremaining: 854ms\n",
            "72:\tlearn: 0.6128498\ttest: 0.6024518\tbest: 0.6024518 (72)\ttotal: 7.74s\tremaining: 743ms\n",
            "73:\tlearn: 0.6125287\ttest: 0.6020902\tbest: 0.6020902 (73)\ttotal: 7.81s\tremaining: 633ms\n",
            "74:\tlearn: 0.6122982\ttest: 0.6018613\tbest: 0.6018613 (74)\ttotal: 7.86s\tremaining: 524ms\n",
            "75:\tlearn: 0.6120874\ttest: 0.6016037\tbest: 0.6016037 (75)\ttotal: 7.93s\tremaining: 418ms\n",
            "76:\tlearn: 0.6119538\ttest: 0.6014384\tbest: 0.6014384 (76)\ttotal: 7.97s\tremaining: 311ms\n",
            "77:\tlearn: 0.6117317\ttest: 0.6012092\tbest: 0.6012092 (77)\ttotal: 8.05s\tremaining: 206ms\n",
            "78:\tlearn: 0.6115275\ttest: 0.6009949\tbest: 0.6009949 (78)\ttotal: 8.1s\tremaining: 103ms\n",
            "79:\tlearn: 0.6113817\ttest: 0.6008145\tbest: 0.6008145 (79)\ttotal: 8.15s\tremaining: 0us\n",
            "\n",
            "bestTest = 0.6008144776\n",
            "bestIteration = 79\n",
            "\n"
          ]
        },
        {
          "data": {
            "text/plain": [
              "<catboost.core.CatBoostRegressor at 0x7fd96aa202b0>"
            ]
          },
          "execution_count": 21,
          "metadata": {},
          "output_type": "execute_result"
        }
      ],
      "source": [
        "# fitting\n",
        "xgb.fit(x_train, y_train)\n",
        "lgbm.fit(x_train, y_train)\n",
        "cb.fit(x_train, y_train,\n",
        "        eval_set=(x_valid, y_valid),\n",
        "        use_best_model = True,\n",
        "        plot=True)"
      ]
    },
    {
      "cell_type": "code",
      "execution_count": 22,
      "metadata": {
        "id": "Zz-aKUh-8k7X"
      },
      "outputs": [],
      "source": [
        "# predict\n",
        "pred_xgb = xgb.predict(x_valid)\n",
        "pred_lgbm = lgbm.predict(x_valid)\n",
        "pred_cb = cb.predict(x_valid)"
      ]
    },
    {
      "cell_type": "code",
      "execution_count": 25,
      "metadata": {
        "id": "macU8zkNIrXd"
      },
      "outputs": [],
      "source": [
        "# use_train4의 열 순서 가져오기\n",
        "desired_order_train = ['day', 'hour', 'month', '구', '기상상태_눈', '기상상태_맑음', '기상상태_비', '기상상태_안개', '기상상태_흐림', '노면상태_기타', '노면상태_서리/결빙', '노면상태_적설', '노면상태_젖음/습기', '노면상태_침수', '도로형태_교차로 - 교차로안', '도로형태_교차로 - 교차로횡단보도내', '도로형태_기타 - 기타', '도로형태_단일로 - 고가도로위', '도로형태_단일로 - 교량', '도로형태_단일로 - 기타', '도로형태_단일로 - 지하차도(도로)내', '도로형태_단일로 - 터널', '도로형태_미분류 - 미분류', '도로형태_주차장 - 주차장', '동가', '사고유형_차대차', '사고유형_차량단독', '주말']\n",
        "\n",
        "# use_test4의 열을 use_train4의 열 순서에 맞춰 재배치\n",
        "use_test4 = use_test4[desired_order_train]"
      ]
    },
    {
      "cell_type": "code",
      "execution_count": 26,
      "metadata": {
        "colab": {
          "base_uri": "https://localhost:8080/"
        },
        "id": "l1sDnyDXCs9Y",
        "outputId": "b89fe19a-c9e1-47fd-ac9b-7a1a4fe21c81"
      },
      "outputs": [
        {
          "name": "stdout",
          "output_type": "stream",
          "text": [
            "xgboost : 0.324583323813243\n",
            "lightgbm : 0.3195920865893019\n",
            "catboost : 0.32404003398906145\n"
          ]
        },
        {
          "name": "stderr",
          "output_type": "stream",
          "text": [
            "/Users/shindonghyuk/opt/anaconda3/envs/ML/lib/python3.9/site-packages/sklearn/utils/validation.py:605: FutureWarning: is_sparse is deprecated and will be removed in a future version. Check `isinstance(dtype, pd.SparseDtype)` instead.\n",
            "  if is_sparse(pd_dtype):\n",
            "/Users/shindonghyuk/opt/anaconda3/envs/ML/lib/python3.9/site-packages/sklearn/utils/validation.py:614: FutureWarning: is_sparse is deprecated and will be removed in a future version. Check `isinstance(dtype, pd.SparseDtype)` instead.\n",
            "  if is_sparse(pd_dtype) or not is_extension_array_dtype(pd_dtype):\n",
            "/Users/shindonghyuk/opt/anaconda3/envs/ML/lib/python3.9/site-packages/sklearn/utils/validation.py:605: FutureWarning: is_sparse is deprecated and will be removed in a future version. Check `isinstance(dtype, pd.SparseDtype)` instead.\n",
            "  if is_sparse(pd_dtype):\n",
            "/Users/shindonghyuk/opt/anaconda3/envs/ML/lib/python3.9/site-packages/sklearn/utils/validation.py:614: FutureWarning: is_sparse is deprecated and will be removed in a future version. Check `isinstance(dtype, pd.SparseDtype)` instead.\n",
            "  if is_sparse(pd_dtype) or not is_extension_array_dtype(pd_dtype):\n",
            "/Users/shindonghyuk/opt/anaconda3/envs/ML/lib/python3.9/site-packages/sklearn/utils/validation.py:605: FutureWarning: is_sparse is deprecated and will be removed in a future version. Check `isinstance(dtype, pd.SparseDtype)` instead.\n",
            "  if is_sparse(pd_dtype):\n",
            "/Users/shindonghyuk/opt/anaconda3/envs/ML/lib/python3.9/site-packages/sklearn/utils/validation.py:614: FutureWarning: is_sparse is deprecated and will be removed in a future version. Check `isinstance(dtype, pd.SparseDtype)` instead.\n",
            "  if is_sparse(pd_dtype) or not is_extension_array_dtype(pd_dtype):\n"
          ]
        }
      ],
      "source": [
        "# metrics\n",
        "rmsle_xgb = mean_squared_log_error(y_valid, pred_xgb, squared = False)\n",
        "rmsle_lgbm = mean_squared_log_error(y_valid, pred_lgbm, squared = False)\n",
        "rmsle_cb = mean_squared_log_error(y_valid, pred_cb, squared = False)\n",
        "\n",
        "print(f'xgboost : {rmsle_xgb}')\n",
        "print(f'lightgbm : {rmsle_lgbm}')\n",
        "print(f'catboost : {rmsle_cb}')"
      ]
    },
    {
      "cell_type": "code",
      "execution_count": 27,
      "metadata": {
        "id": "ffFiaV6AH24U"
      },
      "outputs": [],
      "source": [
        "# predict\n",
        "test_xgb = xgb.predict(use_test4)\n",
        "test_lgbm = lgbm.predict(use_test4)\n",
        "test_cb = cb.predict(use_test4)"
      ]
    },
    {
      "cell_type": "code",
      "execution_count": 29,
      "metadata": {
        "colab": {
          "base_uri": "https://localhost:8080/",
          "height": 424
        },
        "id": "Q3vWK8zfFADe",
        "outputId": "81bea9bc-bd99-48ab-f9d7-03cc9361782c"
      },
      "outputs": [
        {
          "data": {
            "text/html": [
              "<div>\n",
              "<style scoped>\n",
              "    .dataframe tbody tr th:only-of-type {\n",
              "        vertical-align: middle;\n",
              "    }\n",
              "\n",
              "    .dataframe tbody tr th {\n",
              "        vertical-align: top;\n",
              "    }\n",
              "\n",
              "    .dataframe thead th {\n",
              "        text-align: right;\n",
              "    }\n",
              "</style>\n",
              "<table border=\"1\" class=\"dataframe\">\n",
              "  <thead>\n",
              "    <tr style=\"text-align: right;\">\n",
              "      <th></th>\n",
              "      <th>ID</th>\n",
              "      <th>ECLO</th>\n",
              "    </tr>\n",
              "  </thead>\n",
              "  <tbody>\n",
              "    <tr>\n",
              "      <th>0</th>\n",
              "      <td>ACCIDENT_39609</td>\n",
              "      <td>0.127859</td>\n",
              "    </tr>\n",
              "    <tr>\n",
              "      <th>1</th>\n",
              "      <td>ACCIDENT_39610</td>\n",
              "      <td>0.079349</td>\n",
              "    </tr>\n",
              "    <tr>\n",
              "      <th>2</th>\n",
              "      <td>ACCIDENT_39611</td>\n",
              "      <td>0.225567</td>\n",
              "    </tr>\n",
              "    <tr>\n",
              "      <th>3</th>\n",
              "      <td>ACCIDENT_39612</td>\n",
              "      <td>0.153497</td>\n",
              "    </tr>\n",
              "    <tr>\n",
              "      <th>4</th>\n",
              "      <td>ACCIDENT_39613</td>\n",
              "      <td>0.290050</td>\n",
              "    </tr>\n",
              "    <tr>\n",
              "      <th>...</th>\n",
              "      <td>...</td>\n",
              "      <td>...</td>\n",
              "    </tr>\n",
              "    <tr>\n",
              "      <th>10958</th>\n",
              "      <td>ACCIDENT_50567</td>\n",
              "      <td>0.061406</td>\n",
              "    </tr>\n",
              "    <tr>\n",
              "      <th>10959</th>\n",
              "      <td>ACCIDENT_50568</td>\n",
              "      <td>0.044746</td>\n",
              "    </tr>\n",
              "    <tr>\n",
              "      <th>10960</th>\n",
              "      <td>ACCIDENT_50569</td>\n",
              "      <td>0.118067</td>\n",
              "    </tr>\n",
              "    <tr>\n",
              "      <th>10961</th>\n",
              "      <td>ACCIDENT_50570</td>\n",
              "      <td>0.035119</td>\n",
              "    </tr>\n",
              "    <tr>\n",
              "      <th>10962</th>\n",
              "      <td>ACCIDENT_50571</td>\n",
              "      <td>0.112853</td>\n",
              "    </tr>\n",
              "  </tbody>\n",
              "</table>\n",
              "<p>10963 rows × 2 columns</p>\n",
              "</div>"
            ],
            "text/plain": [
              "                   ID      ECLO\n",
              "0      ACCIDENT_39609  0.127859\n",
              "1      ACCIDENT_39610  0.079349\n",
              "2      ACCIDENT_39611  0.225567\n",
              "3      ACCIDENT_39612  0.153497\n",
              "4      ACCIDENT_39613  0.290050\n",
              "...               ...       ...\n",
              "10958  ACCIDENT_50567  0.061406\n",
              "10959  ACCIDENT_50568  0.044746\n",
              "10960  ACCIDENT_50569  0.118067\n",
              "10961  ACCIDENT_50570  0.035119\n",
              "10962  ACCIDENT_50571  0.112853\n",
              "\n",
              "[10963 rows x 2 columns]"
            ]
          },
          "execution_count": 29,
          "metadata": {},
          "output_type": "execute_result"
        }
      ],
      "source": [
        "sample_submission = pd.read_csv('./data/sample_submission.csv')\n",
        "baseline_submission = sample_submission.copy()\n",
        "baseline_submission['ECLO'] = test_xgb\n",
        "baseline_submission"
      ]
    },
    {
      "cell_type": "code",
      "execution_count": 179,
      "metadata": {
        "colab": {
          "base_uri": "https://localhost:8080/",
          "height": 424
        },
        "id": "P05pbotEFQAC",
        "outputId": "404f1d80-be97-4fe7-d4ad-b4223deeb719"
      },
      "outputs": [
        {
          "data": {
            "text/html": [
              "\n",
              "  <div id=\"df-ff76e2b2-ebb8-4176-bd50-75ece50594f0\" class=\"colab-df-container\">\n",
              "    <div>\n",
              "<style scoped>\n",
              "    .dataframe tbody tr th:only-of-type {\n",
              "        vertical-align: middle;\n",
              "    }\n",
              "\n",
              "    .dataframe tbody tr th {\n",
              "        vertical-align: top;\n",
              "    }\n",
              "\n",
              "    .dataframe thead th {\n",
              "        text-align: right;\n",
              "    }\n",
              "</style>\n",
              "<table border=\"1\" class=\"dataframe\">\n",
              "  <thead>\n",
              "    <tr style=\"text-align: right;\">\n",
              "      <th></th>\n",
              "      <th>ID</th>\n",
              "      <th>ECLO</th>\n",
              "    </tr>\n",
              "  </thead>\n",
              "  <tbody>\n",
              "    <tr>\n",
              "      <th>0</th>\n",
              "      <td>ACCIDENT_39609</td>\n",
              "      <td>0.677294</td>\n",
              "    </tr>\n",
              "    <tr>\n",
              "      <th>1</th>\n",
              "      <td>ACCIDENT_39610</td>\n",
              "      <td>0.468718</td>\n",
              "    </tr>\n",
              "    <tr>\n",
              "      <th>2</th>\n",
              "      <td>ACCIDENT_39611</td>\n",
              "      <td>1.153290</td>\n",
              "    </tr>\n",
              "    <tr>\n",
              "      <th>3</th>\n",
              "      <td>ACCIDENT_39612</td>\n",
              "      <td>1.027721</td>\n",
              "    </tr>\n",
              "    <tr>\n",
              "      <th>4</th>\n",
              "      <td>ACCIDENT_39613</td>\n",
              "      <td>1.187340</td>\n",
              "    </tr>\n",
              "    <tr>\n",
              "      <th>...</th>\n",
              "      <td>...</td>\n",
              "      <td>...</td>\n",
              "    </tr>\n",
              "    <tr>\n",
              "      <th>10958</th>\n",
              "      <td>ACCIDENT_50567</td>\n",
              "      <td>1.577597</td>\n",
              "    </tr>\n",
              "    <tr>\n",
              "      <th>10959</th>\n",
              "      <td>ACCIDENT_50568</td>\n",
              "      <td>1.174221</td>\n",
              "    </tr>\n",
              "    <tr>\n",
              "      <th>10960</th>\n",
              "      <td>ACCIDENT_50569</td>\n",
              "      <td>1.291134</td>\n",
              "    </tr>\n",
              "    <tr>\n",
              "      <th>10961</th>\n",
              "      <td>ACCIDENT_50570</td>\n",
              "      <td>1.510382</td>\n",
              "    </tr>\n",
              "    <tr>\n",
              "      <th>10962</th>\n",
              "      <td>ACCIDENT_50571</td>\n",
              "      <td>1.362054</td>\n",
              "    </tr>\n",
              "  </tbody>\n",
              "</table>\n",
              "<p>10963 rows × 2 columns</p>\n",
              "</div>\n",
              "    <div class=\"colab-df-buttons\">\n",
              "\n",
              "  <div class=\"colab-df-container\">\n",
              "    <button class=\"colab-df-convert\" onclick=\"convertToInteractive('df-ff76e2b2-ebb8-4176-bd50-75ece50594f0')\"\n",
              "            title=\"Convert this dataframe to an interactive table.\"\n",
              "            style=\"display:none;\">\n",
              "\n",
              "  <svg xmlns=\"http://www.w3.org/2000/svg\" height=\"24px\" viewBox=\"0 -960 960 960\">\n",
              "    <path d=\"M120-120v-720h720v720H120Zm60-500h600v-160H180v160Zm220 220h160v-160H400v160Zm0 220h160v-160H400v160ZM180-400h160v-160H180v160Zm440 0h160v-160H620v160ZM180-180h160v-160H180v160Zm440 0h160v-160H620v160Z\"/>\n",
              "  </svg>\n",
              "    </button>\n",
              "\n",
              "  <style>\n",
              "    .colab-df-container {\n",
              "      display:flex;\n",
              "      gap: 12px;\n",
              "    }\n",
              "\n",
              "    .colab-df-convert {\n",
              "      background-color: #E8F0FE;\n",
              "      border: none;\n",
              "      border-radius: 50%;\n",
              "      cursor: pointer;\n",
              "      display: none;\n",
              "      fill: #1967D2;\n",
              "      height: 32px;\n",
              "      padding: 0 0 0 0;\n",
              "      width: 32px;\n",
              "    }\n",
              "\n",
              "    .colab-df-convert:hover {\n",
              "      background-color: #E2EBFA;\n",
              "      box-shadow: 0px 1px 2px rgba(60, 64, 67, 0.3), 0px 1px 3px 1px rgba(60, 64, 67, 0.15);\n",
              "      fill: #174EA6;\n",
              "    }\n",
              "\n",
              "    .colab-df-buttons div {\n",
              "      margin-bottom: 4px;\n",
              "    }\n",
              "\n",
              "    [theme=dark] .colab-df-convert {\n",
              "      background-color: #3B4455;\n",
              "      fill: #D2E3FC;\n",
              "    }\n",
              "\n",
              "    [theme=dark] .colab-df-convert:hover {\n",
              "      background-color: #434B5C;\n",
              "      box-shadow: 0px 1px 3px 1px rgba(0, 0, 0, 0.15);\n",
              "      filter: drop-shadow(0px 1px 2px rgba(0, 0, 0, 0.3));\n",
              "      fill: #FFFFFF;\n",
              "    }\n",
              "  </style>\n",
              "\n",
              "    <script>\n",
              "      const buttonEl =\n",
              "        document.querySelector('#df-ff76e2b2-ebb8-4176-bd50-75ece50594f0 button.colab-df-convert');\n",
              "      buttonEl.style.display =\n",
              "        google.colab.kernel.accessAllowed ? 'block' : 'none';\n",
              "\n",
              "      async function convertToInteractive(key) {\n",
              "        const element = document.querySelector('#df-ff76e2b2-ebb8-4176-bd50-75ece50594f0');\n",
              "        const dataTable =\n",
              "          await google.colab.kernel.invokeFunction('convertToInteractive',\n",
              "                                                    [key], {});\n",
              "        if (!dataTable) return;\n",
              "\n",
              "        const docLinkHtml = 'Like what you see? Visit the ' +\n",
              "          '<a target=\"_blank\" href=https://colab.research.google.com/notebooks/data_table.ipynb>data table notebook</a>'\n",
              "          + ' to learn more about interactive tables.';\n",
              "        element.innerHTML = '';\n",
              "        dataTable['output_type'] = 'display_data';\n",
              "        await google.colab.output.renderOutput(dataTable, element);\n",
              "        const docLink = document.createElement('div');\n",
              "        docLink.innerHTML = docLinkHtml;\n",
              "        element.appendChild(docLink);\n",
              "      }\n",
              "    </script>\n",
              "  </div>\n",
              "\n",
              "\n",
              "<div id=\"df-904a04ca-46f7-427a-bbea-577b47511fe1\">\n",
              "  <button class=\"colab-df-quickchart\" onclick=\"quickchart('df-904a04ca-46f7-427a-bbea-577b47511fe1')\"\n",
              "            title=\"Suggest charts\"\n",
              "            style=\"display:none;\">\n",
              "\n",
              "<svg xmlns=\"http://www.w3.org/2000/svg\" height=\"24px\"viewBox=\"0 0 24 24\"\n",
              "     width=\"24px\">\n",
              "    <g>\n",
              "        <path d=\"M19 3H5c-1.1 0-2 .9-2 2v14c0 1.1.9 2 2 2h14c1.1 0 2-.9 2-2V5c0-1.1-.9-2-2-2zM9 17H7v-7h2v7zm4 0h-2V7h2v10zm4 0h-2v-4h2v4z\"/>\n",
              "    </g>\n",
              "</svg>\n",
              "  </button>\n",
              "\n",
              "<style>\n",
              "  .colab-df-quickchart {\n",
              "      --bg-color: #E8F0FE;\n",
              "      --fill-color: #1967D2;\n",
              "      --hover-bg-color: #E2EBFA;\n",
              "      --hover-fill-color: #174EA6;\n",
              "      --disabled-fill-color: #AAA;\n",
              "      --disabled-bg-color: #DDD;\n",
              "  }\n",
              "\n",
              "  [theme=dark] .colab-df-quickchart {\n",
              "      --bg-color: #3B4455;\n",
              "      --fill-color: #D2E3FC;\n",
              "      --hover-bg-color: #434B5C;\n",
              "      --hover-fill-color: #FFFFFF;\n",
              "      --disabled-bg-color: #3B4455;\n",
              "      --disabled-fill-color: #666;\n",
              "  }\n",
              "\n",
              "  .colab-df-quickchart {\n",
              "    background-color: var(--bg-color);\n",
              "    border: none;\n",
              "    border-radius: 50%;\n",
              "    cursor: pointer;\n",
              "    display: none;\n",
              "    fill: var(--fill-color);\n",
              "    height: 32px;\n",
              "    padding: 0;\n",
              "    width: 32px;\n",
              "  }\n",
              "\n",
              "  .colab-df-quickchart:hover {\n",
              "    background-color: var(--hover-bg-color);\n",
              "    box-shadow: 0 1px 2px rgba(60, 64, 67, 0.3), 0 1px 3px 1px rgba(60, 64, 67, 0.15);\n",
              "    fill: var(--button-hover-fill-color);\n",
              "  }\n",
              "\n",
              "  .colab-df-quickchart-complete:disabled,\n",
              "  .colab-df-quickchart-complete:disabled:hover {\n",
              "    background-color: var(--disabled-bg-color);\n",
              "    fill: var(--disabled-fill-color);\n",
              "    box-shadow: none;\n",
              "  }\n",
              "\n",
              "  .colab-df-spinner {\n",
              "    border: 2px solid var(--fill-color);\n",
              "    border-color: transparent;\n",
              "    border-bottom-color: var(--fill-color);\n",
              "    animation:\n",
              "      spin 1s steps(1) infinite;\n",
              "  }\n",
              "\n",
              "  @keyframes spin {\n",
              "    0% {\n",
              "      border-color: transparent;\n",
              "      border-bottom-color: var(--fill-color);\n",
              "      border-left-color: var(--fill-color);\n",
              "    }\n",
              "    20% {\n",
              "      border-color: transparent;\n",
              "      border-left-color: var(--fill-color);\n",
              "      border-top-color: var(--fill-color);\n",
              "    }\n",
              "    30% {\n",
              "      border-color: transparent;\n",
              "      border-left-color: var(--fill-color);\n",
              "      border-top-color: var(--fill-color);\n",
              "      border-right-color: var(--fill-color);\n",
              "    }\n",
              "    40% {\n",
              "      border-color: transparent;\n",
              "      border-right-color: var(--fill-color);\n",
              "      border-top-color: var(--fill-color);\n",
              "    }\n",
              "    60% {\n",
              "      border-color: transparent;\n",
              "      border-right-color: var(--fill-color);\n",
              "    }\n",
              "    80% {\n",
              "      border-color: transparent;\n",
              "      border-right-color: var(--fill-color);\n",
              "      border-bottom-color: var(--fill-color);\n",
              "    }\n",
              "    90% {\n",
              "      border-color: transparent;\n",
              "      border-bottom-color: var(--fill-color);\n",
              "    }\n",
              "  }\n",
              "</style>\n",
              "\n",
              "  <script>\n",
              "    async function quickchart(key) {\n",
              "      const quickchartButtonEl =\n",
              "        document.querySelector('#' + key + ' button');\n",
              "      quickchartButtonEl.disabled = true;  // To prevent multiple clicks.\n",
              "      quickchartButtonEl.classList.add('colab-df-spinner');\n",
              "      try {\n",
              "        const charts = await google.colab.kernel.invokeFunction(\n",
              "            'suggestCharts', [key], {});\n",
              "      } catch (error) {\n",
              "        console.error('Error during call to suggestCharts:', error);\n",
              "      }\n",
              "      quickchartButtonEl.classList.remove('colab-df-spinner');\n",
              "      quickchartButtonEl.classList.add('colab-df-quickchart-complete');\n",
              "    }\n",
              "    (() => {\n",
              "      let quickchartButtonEl =\n",
              "        document.querySelector('#df-904a04ca-46f7-427a-bbea-577b47511fe1 button');\n",
              "      quickchartButtonEl.style.display =\n",
              "        google.colab.kernel.accessAllowed ? 'block' : 'none';\n",
              "    })();\n",
              "  </script>\n",
              "</div>\n",
              "    </div>\n",
              "  </div>\n"
            ],
            "text/plain": [
              "                   ID      ECLO\n",
              "0      ACCIDENT_39609  0.677294\n",
              "1      ACCIDENT_39610  0.468718\n",
              "2      ACCIDENT_39611  1.153290\n",
              "3      ACCIDENT_39612  1.027721\n",
              "4      ACCIDENT_39613  1.187340\n",
              "...               ...       ...\n",
              "10958  ACCIDENT_50567  1.577597\n",
              "10959  ACCIDENT_50568  1.174221\n",
              "10960  ACCIDENT_50569  1.291134\n",
              "10961  ACCIDENT_50570  1.510382\n",
              "10962  ACCIDENT_50571  1.362054\n",
              "\n",
              "[10963 rows x 2 columns]"
            ]
          },
          "execution_count": 179,
          "metadata": {},
          "output_type": "execute_result"
        }
      ],
      "source": [
        "sample_submission = pd.read_csv('sample_submission.csv')\n",
        "baseline_submission = sample_submission.copy()\n",
        "baseline_submission['ECLO'] = test_lgbm\n",
        "baseline_submission"
      ]
    },
    {
      "cell_type": "code",
      "execution_count": 31,
      "metadata": {
        "colab": {
          "base_uri": "https://localhost:8080/",
          "height": 424
        },
        "id": "vv90XDtIFSTi",
        "outputId": "4f58e4eb-1102-46a1-e793-77e2d7d42cb5"
      },
      "outputs": [
        {
          "data": {
            "text/html": [
              "<div>\n",
              "<style scoped>\n",
              "    .dataframe tbody tr th:only-of-type {\n",
              "        vertical-align: middle;\n",
              "    }\n",
              "\n",
              "    .dataframe tbody tr th {\n",
              "        vertical-align: top;\n",
              "    }\n",
              "\n",
              "    .dataframe thead th {\n",
              "        text-align: right;\n",
              "    }\n",
              "</style>\n",
              "<table border=\"1\" class=\"dataframe\">\n",
              "  <thead>\n",
              "    <tr style=\"text-align: right;\">\n",
              "      <th></th>\n",
              "      <th>ID</th>\n",
              "      <th>ECLO</th>\n",
              "    </tr>\n",
              "  </thead>\n",
              "  <tbody>\n",
              "    <tr>\n",
              "      <th>0</th>\n",
              "      <td>ACCIDENT_39609</td>\n",
              "      <td>0.404699</td>\n",
              "    </tr>\n",
              "    <tr>\n",
              "      <th>1</th>\n",
              "      <td>ACCIDENT_39610</td>\n",
              "      <td>0.368024</td>\n",
              "    </tr>\n",
              "    <tr>\n",
              "      <th>2</th>\n",
              "      <td>ACCIDENT_39611</td>\n",
              "      <td>0.341992</td>\n",
              "    </tr>\n",
              "    <tr>\n",
              "      <th>3</th>\n",
              "      <td>ACCIDENT_39612</td>\n",
              "      <td>0.308780</td>\n",
              "    </tr>\n",
              "    <tr>\n",
              "      <th>4</th>\n",
              "      <td>ACCIDENT_39613</td>\n",
              "      <td>0.330044</td>\n",
              "    </tr>\n",
              "    <tr>\n",
              "      <th>...</th>\n",
              "      <td>...</td>\n",
              "      <td>...</td>\n",
              "    </tr>\n",
              "    <tr>\n",
              "      <th>10958</th>\n",
              "      <td>ACCIDENT_50567</td>\n",
              "      <td>0.275696</td>\n",
              "    </tr>\n",
              "    <tr>\n",
              "      <th>10959</th>\n",
              "      <td>ACCIDENT_50568</td>\n",
              "      <td>0.268619</td>\n",
              "    </tr>\n",
              "    <tr>\n",
              "      <th>10960</th>\n",
              "      <td>ACCIDENT_50569</td>\n",
              "      <td>0.268089</td>\n",
              "    </tr>\n",
              "    <tr>\n",
              "      <th>10961</th>\n",
              "      <td>ACCIDENT_50570</td>\n",
              "      <td>0.274448</td>\n",
              "    </tr>\n",
              "    <tr>\n",
              "      <th>10962</th>\n",
              "      <td>ACCIDENT_50571</td>\n",
              "      <td>0.278869</td>\n",
              "    </tr>\n",
              "  </tbody>\n",
              "</table>\n",
              "<p>10963 rows × 2 columns</p>\n",
              "</div>"
            ],
            "text/plain": [
              "                   ID      ECLO\n",
              "0      ACCIDENT_39609  0.404699\n",
              "1      ACCIDENT_39610  0.368024\n",
              "2      ACCIDENT_39611  0.341992\n",
              "3      ACCIDENT_39612  0.308780\n",
              "4      ACCIDENT_39613  0.330044\n",
              "...               ...       ...\n",
              "10958  ACCIDENT_50567  0.275696\n",
              "10959  ACCIDENT_50568  0.268619\n",
              "10960  ACCIDENT_50569  0.268089\n",
              "10961  ACCIDENT_50570  0.274448\n",
              "10962  ACCIDENT_50571  0.278869\n",
              "\n",
              "[10963 rows x 2 columns]"
            ]
          },
          "execution_count": 31,
          "metadata": {},
          "output_type": "execute_result"
        }
      ],
      "source": [
        "sample_submission = pd.read_csv('./data/sample_submission.csv')\n",
        "baseline_submission = sample_submission.copy()\n",
        "baseline_submission['ECLO'] = test_cb\n",
        "baseline_submission"
      ]
    },
    {
      "cell_type": "code",
      "execution_count": 32,
      "metadata": {
        "id": "5qFWZ8UtNH7T"
      },
      "outputs": [],
      "source": [
        "def calculate_eclo(row):\n",
        "    m, n, l, o = row['사망자수'], row['중상자수'], row['경상자수'], row['부상자수']\n",
        "    return m * 10 + n * 5 + l * 3 + o * 1\n",
        "\n",
        "def add_eclo_column(csv_path):\n",
        "    # CSV 파일 읽기\n",
        "    df = pd.read_csv(csv_path, encoding ='cp949')\n",
        "\n",
        "    # ECLO 값 계산 및 'ECLO' 열 추가\n",
        "    df['ECLO'] = df.apply(calculate_eclo, axis=1)\n",
        "\n",
        "    # 결과를 새로운 CSV 파일로 저장 (선택사항)\n",
        "    df.to_csv('output_with_eclo.csv', index=False)"
      ]
    },
    {
      "cell_type": "code",
      "execution_count": 33,
      "metadata": {
        "colab": {
          "base_uri": "https://localhost:8080/",
          "height": 424
        },
        "id": "DwefNShaOwOb",
        "outputId": "a366ffdb-12b5-4a1b-d535-363f87420abd"
      },
      "outputs": [
        {
          "data": {
            "text/html": [
              "<div>\n",
              "<style scoped>\n",
              "    .dataframe tbody tr th:only-of-type {\n",
              "        vertical-align: middle;\n",
              "    }\n",
              "\n",
              "    .dataframe tbody tr th {\n",
              "        vertical-align: top;\n",
              "    }\n",
              "\n",
              "    .dataframe thead th {\n",
              "        text-align: right;\n",
              "    }\n",
              "</style>\n",
              "<table border=\"1\" class=\"dataframe\">\n",
              "  <thead>\n",
              "    <tr style=\"text-align: right;\">\n",
              "      <th></th>\n",
              "      <th>ID</th>\n",
              "      <th>ECLO</th>\n",
              "      <th>중상자수</th>\n",
              "    </tr>\n",
              "  </thead>\n",
              "  <tbody>\n",
              "    <tr>\n",
              "      <th>0</th>\n",
              "      <td>ACCIDENT_39609</td>\n",
              "      <td>0</td>\n",
              "      <td>0.280747</td>\n",
              "    </tr>\n",
              "    <tr>\n",
              "      <th>1</th>\n",
              "      <td>ACCIDENT_39610</td>\n",
              "      <td>0</td>\n",
              "      <td>0.437957</td>\n",
              "    </tr>\n",
              "    <tr>\n",
              "      <th>2</th>\n",
              "      <td>ACCIDENT_39611</td>\n",
              "      <td>0</td>\n",
              "      <td>0.307829</td>\n",
              "    </tr>\n",
              "    <tr>\n",
              "      <th>3</th>\n",
              "      <td>ACCIDENT_39612</td>\n",
              "      <td>0</td>\n",
              "      <td>0.290756</td>\n",
              "    </tr>\n",
              "    <tr>\n",
              "      <th>4</th>\n",
              "      <td>ACCIDENT_39613</td>\n",
              "      <td>0</td>\n",
              "      <td>0.262292</td>\n",
              "    </tr>\n",
              "    <tr>\n",
              "      <th>...</th>\n",
              "      <td>...</td>\n",
              "      <td>...</td>\n",
              "      <td>...</td>\n",
              "    </tr>\n",
              "    <tr>\n",
              "      <th>10958</th>\n",
              "      <td>ACCIDENT_50567</td>\n",
              "      <td>0</td>\n",
              "      <td>0.166153</td>\n",
              "    </tr>\n",
              "    <tr>\n",
              "      <th>10959</th>\n",
              "      <td>ACCIDENT_50568</td>\n",
              "      <td>0</td>\n",
              "      <td>0.328809</td>\n",
              "    </tr>\n",
              "    <tr>\n",
              "      <th>10960</th>\n",
              "      <td>ACCIDENT_50569</td>\n",
              "      <td>0</td>\n",
              "      <td>0.243574</td>\n",
              "    </tr>\n",
              "    <tr>\n",
              "      <th>10961</th>\n",
              "      <td>ACCIDENT_50570</td>\n",
              "      <td>0</td>\n",
              "      <td>0.246647</td>\n",
              "    </tr>\n",
              "    <tr>\n",
              "      <th>10962</th>\n",
              "      <td>ACCIDENT_50571</td>\n",
              "      <td>0</td>\n",
              "      <td>0.185778</td>\n",
              "    </tr>\n",
              "  </tbody>\n",
              "</table>\n",
              "<p>10963 rows × 3 columns</p>\n",
              "</div>"
            ],
            "text/plain": [
              "                   ID  ECLO      중상자수\n",
              "0      ACCIDENT_39609     0  0.280747\n",
              "1      ACCIDENT_39610     0  0.437957\n",
              "2      ACCIDENT_39611     0  0.307829\n",
              "3      ACCIDENT_39612     0  0.290756\n",
              "4      ACCIDENT_39613     0  0.262292\n",
              "...               ...   ...       ...\n",
              "10958  ACCIDENT_50567     0  0.166153\n",
              "10959  ACCIDENT_50568     0  0.328809\n",
              "10960  ACCIDENT_50569     0  0.243574\n",
              "10961  ACCIDENT_50570     0  0.246647\n",
              "10962  ACCIDENT_50571     0  0.185778\n",
              "\n",
              "[10963 rows x 3 columns]"
            ]
          },
          "execution_count": 33,
          "metadata": {},
          "output_type": "execute_result"
        }
      ],
      "source": [
        "sample_submission = pd.read_csv('./data/sample_submission.csv')\n",
        "baseline_submission = sample_submission.copy()\n",
        "baseline_submission['중상자수'] = test_lgbm\n",
        "baseline_submission"
      ]
    },
    {
      "cell_type": "code",
      "execution_count": 34,
      "metadata": {
        "id": "-cHLHhK3PHA6"
      },
      "outputs": [],
      "source": [
        "baseline_submission.to_csv('submission.csv', index=False)"
      ]
    },
    {
      "cell_type": "code",
      "execution_count": 35,
      "metadata": {
        "id": "eMoGKLapPUHX"
      },
      "outputs": [
        {
          "ename": "FileNotFoundError",
          "evalue": "[Errno 2] No such file or directory: 'baseline.csv'",
          "output_type": "error",
          "traceback": [
            "\u001b[0;31m---------------------------------------------------------------------------\u001b[0m",
            "\u001b[0;31mFileNotFoundError\u001b[0m                         Traceback (most recent call last)",
            "\u001b[1;32m/Users/shindonghyuk/Library/Mobile Documents/com~apple~CloudDocs/Upstage_AI_Lab/Team.URSA/ML_Project/Deacu_Car_accidents_predict/baseline_code.ipynb Cell 33\u001b[0m line \u001b[0;36m2\n\u001b[1;32m      <a href='vscode-notebook-cell:/Users/shindonghyuk/Library/Mobile%20Documents/com~apple~CloudDocs/Upstage_AI_Lab/Team.URSA/ML_Project/Deacu_Car_accidents_predict/baseline_code.ipynb#X44sZmlsZQ%3D%3D?line=0'>1</a>\u001b[0m \u001b[39m# ECLO 합친 후 csv 파일 저장\u001b[39;00m\n\u001b[0;32m----> <a href='vscode-notebook-cell:/Users/shindonghyuk/Library/Mobile%20Documents/com~apple~CloudDocs/Upstage_AI_Lab/Team.URSA/ML_Project/Deacu_Car_accidents_predict/baseline_code.ipynb#X44sZmlsZQ%3D%3D?line=1'>2</a>\u001b[0m add_eclo_column(\u001b[39m'\u001b[39;49m\u001b[39mbaseline.csv\u001b[39;49m\u001b[39m'\u001b[39;49m)\n",
            "\u001b[1;32m/Users/shindonghyuk/Library/Mobile Documents/com~apple~CloudDocs/Upstage_AI_Lab/Team.URSA/ML_Project/Deacu_Car_accidents_predict/baseline_code.ipynb Cell 33\u001b[0m line \u001b[0;36m7\n\u001b[1;32m      <a href='vscode-notebook-cell:/Users/shindonghyuk/Library/Mobile%20Documents/com~apple~CloudDocs/Upstage_AI_Lab/Team.URSA/ML_Project/Deacu_Car_accidents_predict/baseline_code.ipynb#X44sZmlsZQ%3D%3D?line=4'>5</a>\u001b[0m \u001b[39mdef\u001b[39;00m \u001b[39madd_eclo_column\u001b[39m(csv_path):\n\u001b[1;32m      <a href='vscode-notebook-cell:/Users/shindonghyuk/Library/Mobile%20Documents/com~apple~CloudDocs/Upstage_AI_Lab/Team.URSA/ML_Project/Deacu_Car_accidents_predict/baseline_code.ipynb#X44sZmlsZQ%3D%3D?line=5'>6</a>\u001b[0m     \u001b[39m# CSV 파일 읽기\u001b[39;00m\n\u001b[0;32m----> <a href='vscode-notebook-cell:/Users/shindonghyuk/Library/Mobile%20Documents/com~apple~CloudDocs/Upstage_AI_Lab/Team.URSA/ML_Project/Deacu_Car_accidents_predict/baseline_code.ipynb#X44sZmlsZQ%3D%3D?line=6'>7</a>\u001b[0m     df \u001b[39m=\u001b[39m pd\u001b[39m.\u001b[39;49mread_csv(csv_path, encoding \u001b[39m=\u001b[39;49m\u001b[39m'\u001b[39;49m\u001b[39mcp949\u001b[39;49m\u001b[39m'\u001b[39;49m)\n\u001b[1;32m      <a href='vscode-notebook-cell:/Users/shindonghyuk/Library/Mobile%20Documents/com~apple~CloudDocs/Upstage_AI_Lab/Team.URSA/ML_Project/Deacu_Car_accidents_predict/baseline_code.ipynb#X44sZmlsZQ%3D%3D?line=8'>9</a>\u001b[0m     \u001b[39m# ECLO 값 계산 및 'ECLO' 열 추가\u001b[39;00m\n\u001b[1;32m     <a href='vscode-notebook-cell:/Users/shindonghyuk/Library/Mobile%20Documents/com~apple~CloudDocs/Upstage_AI_Lab/Team.URSA/ML_Project/Deacu_Car_accidents_predict/baseline_code.ipynb#X44sZmlsZQ%3D%3D?line=9'>10</a>\u001b[0m     df[\u001b[39m'\u001b[39m\u001b[39mECLO\u001b[39m\u001b[39m'\u001b[39m] \u001b[39m=\u001b[39m df\u001b[39m.\u001b[39mapply(calculate_eclo, axis\u001b[39m=\u001b[39m\u001b[39m1\u001b[39m)\n",
            "File \u001b[0;32m~/opt/anaconda3/envs/ML/lib/python3.9/site-packages/pandas/io/parsers/readers.py:948\u001b[0m, in \u001b[0;36mread_csv\u001b[0;34m(filepath_or_buffer, sep, delimiter, header, names, index_col, usecols, dtype, engine, converters, true_values, false_values, skipinitialspace, skiprows, skipfooter, nrows, na_values, keep_default_na, na_filter, verbose, skip_blank_lines, parse_dates, infer_datetime_format, keep_date_col, date_parser, date_format, dayfirst, cache_dates, iterator, chunksize, compression, thousands, decimal, lineterminator, quotechar, quoting, doublequote, escapechar, comment, encoding, encoding_errors, dialect, on_bad_lines, delim_whitespace, low_memory, memory_map, float_precision, storage_options, dtype_backend)\u001b[0m\n\u001b[1;32m    935\u001b[0m kwds_defaults \u001b[39m=\u001b[39m _refine_defaults_read(\n\u001b[1;32m    936\u001b[0m     dialect,\n\u001b[1;32m    937\u001b[0m     delimiter,\n\u001b[0;32m   (...)\u001b[0m\n\u001b[1;32m    944\u001b[0m     dtype_backend\u001b[39m=\u001b[39mdtype_backend,\n\u001b[1;32m    945\u001b[0m )\n\u001b[1;32m    946\u001b[0m kwds\u001b[39m.\u001b[39mupdate(kwds_defaults)\n\u001b[0;32m--> 948\u001b[0m \u001b[39mreturn\u001b[39;00m _read(filepath_or_buffer, kwds)\n",
            "File \u001b[0;32m~/opt/anaconda3/envs/ML/lib/python3.9/site-packages/pandas/io/parsers/readers.py:611\u001b[0m, in \u001b[0;36m_read\u001b[0;34m(filepath_or_buffer, kwds)\u001b[0m\n\u001b[1;32m    608\u001b[0m _validate_names(kwds\u001b[39m.\u001b[39mget(\u001b[39m\"\u001b[39m\u001b[39mnames\u001b[39m\u001b[39m\"\u001b[39m, \u001b[39mNone\u001b[39;00m))\n\u001b[1;32m    610\u001b[0m \u001b[39m# Create the parser.\u001b[39;00m\n\u001b[0;32m--> 611\u001b[0m parser \u001b[39m=\u001b[39m TextFileReader(filepath_or_buffer, \u001b[39m*\u001b[39;49m\u001b[39m*\u001b[39;49mkwds)\n\u001b[1;32m    613\u001b[0m \u001b[39mif\u001b[39;00m chunksize \u001b[39mor\u001b[39;00m iterator:\n\u001b[1;32m    614\u001b[0m     \u001b[39mreturn\u001b[39;00m parser\n",
            "File \u001b[0;32m~/opt/anaconda3/envs/ML/lib/python3.9/site-packages/pandas/io/parsers/readers.py:1448\u001b[0m, in \u001b[0;36mTextFileReader.__init__\u001b[0;34m(self, f, engine, **kwds)\u001b[0m\n\u001b[1;32m   1445\u001b[0m     \u001b[39mself\u001b[39m\u001b[39m.\u001b[39moptions[\u001b[39m\"\u001b[39m\u001b[39mhas_index_names\u001b[39m\u001b[39m\"\u001b[39m] \u001b[39m=\u001b[39m kwds[\u001b[39m\"\u001b[39m\u001b[39mhas_index_names\u001b[39m\u001b[39m\"\u001b[39m]\n\u001b[1;32m   1447\u001b[0m \u001b[39mself\u001b[39m\u001b[39m.\u001b[39mhandles: IOHandles \u001b[39m|\u001b[39m \u001b[39mNone\u001b[39;00m \u001b[39m=\u001b[39m \u001b[39mNone\u001b[39;00m\n\u001b[0;32m-> 1448\u001b[0m \u001b[39mself\u001b[39m\u001b[39m.\u001b[39m_engine \u001b[39m=\u001b[39m \u001b[39mself\u001b[39;49m\u001b[39m.\u001b[39;49m_make_engine(f, \u001b[39mself\u001b[39;49m\u001b[39m.\u001b[39;49mengine)\n",
            "File \u001b[0;32m~/opt/anaconda3/envs/ML/lib/python3.9/site-packages/pandas/io/parsers/readers.py:1705\u001b[0m, in \u001b[0;36mTextFileReader._make_engine\u001b[0;34m(self, f, engine)\u001b[0m\n\u001b[1;32m   1703\u001b[0m     \u001b[39mif\u001b[39;00m \u001b[39m\"\u001b[39m\u001b[39mb\u001b[39m\u001b[39m\"\u001b[39m \u001b[39mnot\u001b[39;00m \u001b[39min\u001b[39;00m mode:\n\u001b[1;32m   1704\u001b[0m         mode \u001b[39m+\u001b[39m\u001b[39m=\u001b[39m \u001b[39m\"\u001b[39m\u001b[39mb\u001b[39m\u001b[39m\"\u001b[39m\n\u001b[0;32m-> 1705\u001b[0m \u001b[39mself\u001b[39m\u001b[39m.\u001b[39mhandles \u001b[39m=\u001b[39m get_handle(\n\u001b[1;32m   1706\u001b[0m     f,\n\u001b[1;32m   1707\u001b[0m     mode,\n\u001b[1;32m   1708\u001b[0m     encoding\u001b[39m=\u001b[39;49m\u001b[39mself\u001b[39;49m\u001b[39m.\u001b[39;49moptions\u001b[39m.\u001b[39;49mget(\u001b[39m\"\u001b[39;49m\u001b[39mencoding\u001b[39;49m\u001b[39m\"\u001b[39;49m, \u001b[39mNone\u001b[39;49;00m),\n\u001b[1;32m   1709\u001b[0m     compression\u001b[39m=\u001b[39;49m\u001b[39mself\u001b[39;49m\u001b[39m.\u001b[39;49moptions\u001b[39m.\u001b[39;49mget(\u001b[39m\"\u001b[39;49m\u001b[39mcompression\u001b[39;49m\u001b[39m\"\u001b[39;49m, \u001b[39mNone\u001b[39;49;00m),\n\u001b[1;32m   1710\u001b[0m     memory_map\u001b[39m=\u001b[39;49m\u001b[39mself\u001b[39;49m\u001b[39m.\u001b[39;49moptions\u001b[39m.\u001b[39;49mget(\u001b[39m\"\u001b[39;49m\u001b[39mmemory_map\u001b[39;49m\u001b[39m\"\u001b[39;49m, \u001b[39mFalse\u001b[39;49;00m),\n\u001b[1;32m   1711\u001b[0m     is_text\u001b[39m=\u001b[39;49mis_text,\n\u001b[1;32m   1712\u001b[0m     errors\u001b[39m=\u001b[39;49m\u001b[39mself\u001b[39;49m\u001b[39m.\u001b[39;49moptions\u001b[39m.\u001b[39;49mget(\u001b[39m\"\u001b[39;49m\u001b[39mencoding_errors\u001b[39;49m\u001b[39m\"\u001b[39;49m, \u001b[39m\"\u001b[39;49m\u001b[39mstrict\u001b[39;49m\u001b[39m\"\u001b[39;49m),\n\u001b[1;32m   1713\u001b[0m     storage_options\u001b[39m=\u001b[39;49m\u001b[39mself\u001b[39;49m\u001b[39m.\u001b[39;49moptions\u001b[39m.\u001b[39;49mget(\u001b[39m\"\u001b[39;49m\u001b[39mstorage_options\u001b[39;49m\u001b[39m\"\u001b[39;49m, \u001b[39mNone\u001b[39;49;00m),\n\u001b[1;32m   1714\u001b[0m )\n\u001b[1;32m   1715\u001b[0m \u001b[39massert\u001b[39;00m \u001b[39mself\u001b[39m\u001b[39m.\u001b[39mhandles \u001b[39mis\u001b[39;00m \u001b[39mnot\u001b[39;00m \u001b[39mNone\u001b[39;00m\n\u001b[1;32m   1716\u001b[0m f \u001b[39m=\u001b[39m \u001b[39mself\u001b[39m\u001b[39m.\u001b[39mhandles\u001b[39m.\u001b[39mhandle\n",
            "File \u001b[0;32m~/opt/anaconda3/envs/ML/lib/python3.9/site-packages/pandas/io/common.py:863\u001b[0m, in \u001b[0;36mget_handle\u001b[0;34m(path_or_buf, mode, encoding, compression, memory_map, is_text, errors, storage_options)\u001b[0m\n\u001b[1;32m    858\u001b[0m \u001b[39melif\u001b[39;00m \u001b[39misinstance\u001b[39m(handle, \u001b[39mstr\u001b[39m):\n\u001b[1;32m    859\u001b[0m     \u001b[39m# Check whether the filename is to be opened in binary mode.\u001b[39;00m\n\u001b[1;32m    860\u001b[0m     \u001b[39m# Binary mode does not support 'encoding' and 'newline'.\u001b[39;00m\n\u001b[1;32m    861\u001b[0m     \u001b[39mif\u001b[39;00m ioargs\u001b[39m.\u001b[39mencoding \u001b[39mand\u001b[39;00m \u001b[39m\"\u001b[39m\u001b[39mb\u001b[39m\u001b[39m\"\u001b[39m \u001b[39mnot\u001b[39;00m \u001b[39min\u001b[39;00m ioargs\u001b[39m.\u001b[39mmode:\n\u001b[1;32m    862\u001b[0m         \u001b[39m# Encoding\u001b[39;00m\n\u001b[0;32m--> 863\u001b[0m         handle \u001b[39m=\u001b[39m \u001b[39mopen\u001b[39;49m(\n\u001b[1;32m    864\u001b[0m             handle,\n\u001b[1;32m    865\u001b[0m             ioargs\u001b[39m.\u001b[39;49mmode,\n\u001b[1;32m    866\u001b[0m             encoding\u001b[39m=\u001b[39;49mioargs\u001b[39m.\u001b[39;49mencoding,\n\u001b[1;32m    867\u001b[0m             errors\u001b[39m=\u001b[39;49merrors,\n\u001b[1;32m    868\u001b[0m             newline\u001b[39m=\u001b[39;49m\u001b[39m\"\u001b[39;49m\u001b[39m\"\u001b[39;49m,\n\u001b[1;32m    869\u001b[0m         )\n\u001b[1;32m    870\u001b[0m     \u001b[39melse\u001b[39;00m:\n\u001b[1;32m    871\u001b[0m         \u001b[39m# Binary mode\u001b[39;00m\n\u001b[1;32m    872\u001b[0m         handle \u001b[39m=\u001b[39m \u001b[39mopen\u001b[39m(handle, ioargs\u001b[39m.\u001b[39mmode)\n",
            "\u001b[0;31mFileNotFoundError\u001b[0m: [Errno 2] No such file or directory: 'baseline.csv'"
          ]
        }
      ],
      "source": [
        "# ECLO 합친 후 csv 파일 저장\n",
        "add_eclo_column('baseline.csv')"
      ]
    },
    {
      "cell_type": "code",
      "execution_count": null,
      "metadata": {},
      "outputs": [],
      "source": []
    }
  ],
  "metadata": {
    "colab": {
      "provenance": []
    },
    "kernelspec": {
      "display_name": "Python 3",
      "name": "python3"
    },
    "language_info": {
      "codemirror_mode": {
        "name": "ipython",
        "version": 3
      },
      "file_extension": ".py",
      "mimetype": "text/x-python",
      "name": "python",
      "nbconvert_exporter": "python",
      "pygments_lexer": "ipython3",
      "version": "3.9.18"
    },
    "widgets": {
      "application/vnd.jupyter.widget-state+json": {
        "a38960f6a9bc4a16b726232e6d62ab4c": {
          "model_module": "catboost-widget",
          "model_module_version": "^1.0.0",
          "model_name": "CatboostWidgetModel",
          "state": {
            "_dom_classes": [],
            "_model_module": "catboost-widget",
            "_model_module_version": "^1.0.0",
            "_model_name": "CatboostWidgetModel",
            "_view_count": null,
            "_view_module": "catboost-widget",
            "_view_module_version": "^1.0.0",
            "_view_name": "CatboostWidgetView",
            "data": {
              "catboost_info": {
                "content": {
                  "data": {
                    "iterations": [
                      {
                        "iteration": 0,
                        "learn": [
                          0.9709695339
                        ],
                        "passed_time": 0.02807437182,
                        "remaining_time": 2.217875374,
                        "test": [
                          0.9705567628
                        ]
                      },
                      {
                        "iteration": 1,
                        "learn": [
                          0.9446250703
                        ],
                        "passed_time": 0.05628901319,
                        "remaining_time": 2.195271514,
                        "test": [
                          0.9438925825
                        ]
                      },
                      {
                        "iteration": 2,
                        "learn": [
                          0.9200797735
                        ],
                        "passed_time": 0.08323535529,
                        "remaining_time": 2.136374119,
                        "test": [
                          0.9189529542
                        ]
                      },
                      {
                        "iteration": 3,
                        "learn": [
                          0.8978605522
                        ],
                        "passed_time": 0.1111978148,
                        "remaining_time": 2.112758482,
                        "test": [
                          0.8964162389
                        ]
                      },
                      {
                        "iteration": 4,
                        "learn": [
                          0.876822685
                        ],
                        "passed_time": 0.1394616161,
                        "remaining_time": 2.091924241,
                        "test": [
                          0.8750279001
                        ]
                      },
                      {
                        "iteration": 5,
                        "learn": [
                          0.8580159357
                        ],
                        "passed_time": 0.1734079457,
                        "remaining_time": 2.138697997,
                        "test": [
                          0.8559081185
                        ]
                      },
                      {
                        "iteration": 6,
                        "learn": [
                          0.8407159985
                        ],
                        "passed_time": 0.2040084186,
                        "remaining_time": 2.127516366,
                        "test": [
                          0.8383087694
                        ]
                      },
                      {
                        "iteration": 7,
                        "learn": [
                          0.8242950877
                        ],
                        "passed_time": 0.2352086731,
                        "remaining_time": 2.116878058,
                        "test": [
                          0.8215978998
                        ]
                      },
                      {
                        "iteration": 8,
                        "learn": [
                          0.8095129598
                        ],
                        "passed_time": 0.2621315108,
                        "remaining_time": 2.067926363,
                        "test": [
                          0.8065655407
                        ]
                      },
                      {
                        "iteration": 9,
                        "learn": [
                          0.7957325752
                        ],
                        "passed_time": 0.2886663844,
                        "remaining_time": 2.02066469,
                        "test": [
                          0.7924986632
                        ]
                      },
                      {
                        "iteration": 10,
                        "learn": [
                          0.7830973886
                        ],
                        "passed_time": 0.3123927727,
                        "remaining_time": 1.959554665,
                        "test": [
                          0.7796116524
                        ]
                      },
                      {
                        "iteration": 11,
                        "learn": [
                          0.7713389483
                        ],
                        "passed_time": 0.3388507941,
                        "remaining_time": 1.9201545,
                        "test": [
                          0.7675961076
                        ]
                      },
                      {
                        "iteration": 12,
                        "learn": [
                          0.760495659
                        ],
                        "passed_time": 0.3660168157,
                        "remaining_time": 1.886394358,
                        "test": [
                          0.756512878
                        ]
                      },
                      {
                        "iteration": 13,
                        "learn": [
                          0.7504379378
                        ],
                        "passed_time": 0.3950487281,
                        "remaining_time": 1.862372575,
                        "test": [
                          0.7462378361
                        ]
                      },
                      {
                        "iteration": 14,
                        "learn": [
                          0.7408962986
                        ],
                        "passed_time": 0.4220132305,
                        "remaining_time": 1.828723999,
                        "test": [
                          0.7364238019
                        ]
                      },
                      {
                        "iteration": 15,
                        "learn": [
                          0.7319060007
                        ],
                        "passed_time": 0.4525754846,
                        "remaining_time": 1.810301938,
                        "test": [
                          0.7272206073
                        ]
                      },
                      {
                        "iteration": 16,
                        "learn": [
                          0.7239070647
                        ],
                        "passed_time": 0.4791033176,
                        "remaining_time": 1.77550053,
                        "test": [
                          0.7190179734
                        ]
                      },
                      {
                        "iteration": 17,
                        "learn": [
                          0.7164398607
                        ],
                        "passed_time": 0.5064062946,
                        "remaining_time": 1.744288348,
                        "test": [
                          0.711374421
                        ]
                      },
                      {
                        "iteration": 18,
                        "learn": [
                          0.7092097207
                        ],
                        "passed_time": 0.5434996009,
                        "remaining_time": 1.744919771,
                        "test": [
                          0.7039099976
                        ]
                      },
                      {
                        "iteration": 19,
                        "learn": [
                          0.7028136035
                        ],
                        "passed_time": 0.5689518401,
                        "remaining_time": 1.70685552,
                        "test": [
                          0.6973192881
                        ]
                      },
                      {
                        "iteration": 20,
                        "learn": [
                          0.6967978936
                        ],
                        "passed_time": 0.5963764686,
                        "remaining_time": 1.675533888,
                        "test": [
                          0.6911447181
                        ]
                      },
                      {
                        "iteration": 21,
                        "learn": [
                          0.6912562804
                        ],
                        "passed_time": 0.6235594004,
                        "remaining_time": 1.643929328,
                        "test": [
                          0.6854334182
                        ]
                      },
                      {
                        "iteration": 22,
                        "learn": [
                          0.6860561627
                        ],
                        "passed_time": 0.6514218361,
                        "remaining_time": 1.614393246,
                        "test": [
                          0.6800868631
                        ]
                      },
                      {
                        "iteration": 23,
                        "learn": [
                          0.6810961921
                        ],
                        "passed_time": 0.68264444,
                        "remaining_time": 1.592837027,
                        "test": [
                          0.6749152651
                        ]
                      },
                      {
                        "iteration": 24,
                        "learn": [
                          0.6764065393
                        ],
                        "passed_time": 0.7114917635,
                        "remaining_time": 1.56528188,
                        "test": [
                          0.670038903
                        ]
                      },
                      {
                        "iteration": 25,
                        "learn": [
                          0.6722894728
                        ],
                        "passed_time": 0.7365509526,
                        "remaining_time": 1.529759671,
                        "test": [
                          0.6657687824
                        ]
                      },
                      {
                        "iteration": 26,
                        "learn": [
                          0.6683546811
                        ],
                        "passed_time": 0.7662797909,
                        "remaining_time": 1.504178849,
                        "test": [
                          0.661720594
                        ]
                      },
                      {
                        "iteration": 27,
                        "learn": [
                          0.6645224881
                        ],
                        "passed_time": 0.7939564776,
                        "remaining_time": 1.474490601,
                        "test": [
                          0.6576996998
                        ]
                      },
                      {
                        "iteration": 28,
                        "learn": [
                          0.6611546318
                        ],
                        "passed_time": 0.8190868025,
                        "remaining_time": 1.440462997,
                        "test": [
                          0.6541805792
                        ]
                      },
                      {
                        "iteration": 29,
                        "learn": [
                          0.6580668713
                        ],
                        "passed_time": 0.837554613,
                        "remaining_time": 1.395924355,
                        "test": [
                          0.6509563591
                        ]
                      },
                      {
                        "iteration": 30,
                        "learn": [
                          0.6550174569
                        ],
                        "passed_time": 0.8641610936,
                        "remaining_time": 1.365932051,
                        "test": [
                          0.6477563055
                        ]
                      },
                      {
                        "iteration": 31,
                        "learn": [
                          0.6522974188
                        ],
                        "passed_time": 0.8946536875,
                        "remaining_time": 1.341980531,
                        "test": [
                          0.6449360651
                        ]
                      },
                      {
                        "iteration": 32,
                        "learn": [
                          0.6496823071
                        ],
                        "passed_time": 0.9225163554,
                        "remaining_time": 1.31388693,
                        "test": [
                          0.6422011594
                        ]
                      },
                      {
                        "iteration": 33,
                        "learn": [
                          0.6472062566
                        ],
                        "passed_time": 0.9416001,
                        "remaining_time": 1.273929547,
                        "test": [
                          0.6395618702
                        ]
                      },
                      {
                        "iteration": 34,
                        "learn": [
                          0.6448644471
                        ],
                        "passed_time": 0.9774299299,
                        "remaining_time": 1.256695624,
                        "test": [
                          0.6370663944
                        ]
                      },
                      {
                        "iteration": 35,
                        "learn": [
                          0.6427559505
                        ],
                        "passed_time": 1.007070728,
                        "remaining_time": 1.230864223,
                        "test": [
                          0.634838839
                        ]
                      },
                      {
                        "iteration": 36,
                        "learn": [
                          0.6408162101
                        ],
                        "passed_time": 1.034767975,
                        "remaining_time": 1.202568187,
                        "test": [
                          0.6327999286
                        ]
                      },
                      {
                        "iteration": 37,
                        "learn": [
                          0.6390422883
                        ],
                        "passed_time": 1.053759321,
                        "remaining_time": 1.164681355,
                        "test": [
                          0.6309174629
                        ]
                      },
                      {
                        "iteration": 38,
                        "learn": [
                          0.6373915878
                        ],
                        "passed_time": 1.071300358,
                        "remaining_time": 1.126238838,
                        "test": [
                          0.6291586858
                        ]
                      },
                      {
                        "iteration": 39,
                        "learn": [
                          0.6356478175
                        ],
                        "passed_time": 1.102474025,
                        "remaining_time": 1.102474025,
                        "test": [
                          0.627300669
                        ]
                      },
                      {
                        "iteration": 40,
                        "learn": [
                          0.634163728
                        ],
                        "passed_time": 1.129967022,
                        "remaining_time": 1.07484668,
                        "test": [
                          0.6257287608
                        ]
                      },
                      {
                        "iteration": 41,
                        "learn": [
                          0.6327456875
                        ],
                        "passed_time": 1.158269154,
                        "remaining_time": 1.047957806,
                        "test": [
                          0.624217863
                        ]
                      },
                      {
                        "iteration": 42,
                        "learn": [
                          0.6314002549
                        ],
                        "passed_time": 1.194140182,
                        "remaining_time": 1.02751597,
                        "test": [
                          0.6227923595
                        ]
                      },
                      {
                        "iteration": 43,
                        "learn": [
                          0.6301984657
                        ],
                        "passed_time": 1.230498678,
                        "remaining_time": 1.006771645,
                        "test": [
                          0.6215110499
                        ]
                      },
                      {
                        "iteration": 44,
                        "learn": [
                          0.6290977067
                        ],
                        "passed_time": 1.247392589,
                        "remaining_time": 0.9701942359,
                        "test": [
                          0.6203207535
                        ]
                      },
                      {
                        "iteration": 45,
                        "learn": [
                          0.6279010718
                        ],
                        "passed_time": 1.274874783,
                        "remaining_time": 0.9422987523,
                        "test": [
                          0.6190556873
                        ]
                      },
                      {
                        "iteration": 46,
                        "learn": [
                          0.6267993468
                        ],
                        "passed_time": 1.306691312,
                        "remaining_time": 0.917464113,
                        "test": [
                          0.6178517703
                        ]
                      },
                      {
                        "iteration": 47,
                        "learn": [
                          0.6256689386
                        ],
                        "passed_time": 1.33478292,
                        "remaining_time": 0.88985528,
                        "test": [
                          0.6166231518
                        ]
                      },
                      {
                        "iteration": 48,
                        "learn": [
                          0.6246601874
                        ],
                        "passed_time": 1.3665387,
                        "remaining_time": 0.8645448921,
                        "test": [
                          0.6155334533
                        ]
                      },
                      {
                        "iteration": 49,
                        "learn": [
                          0.6236982918
                        ],
                        "passed_time": 1.398159486,
                        "remaining_time": 0.8388956915,
                        "test": [
                          0.6145071338
                        ]
                      },
                      {
                        "iteration": 50,
                        "learn": [
                          0.6229043737
                        ],
                        "passed_time": 1.424841308,
                        "remaining_time": 0.8102038809,
                        "test": [
                          0.6136635018
                        ]
                      },
                      {
                        "iteration": 51,
                        "learn": [
                          0.6221599042
                        ],
                        "passed_time": 1.452772436,
                        "remaining_time": 0.7822620808,
                        "test": [
                          0.612882174
                        ]
                      },
                      {
                        "iteration": 52,
                        "learn": [
                          0.6214284502
                        ],
                        "passed_time": 1.479474061,
                        "remaining_time": 0.7536943329,
                        "test": [
                          0.61208806
                        ]
                      },
                      {
                        "iteration": 53,
                        "learn": [
                          0.6207154259
                        ],
                        "passed_time": 1.517976594,
                        "remaining_time": 0.7308776194,
                        "test": [
                          0.6112787418
                        ]
                      },
                      {
                        "iteration": 54,
                        "learn": [
                          0.6201508459
                        ],
                        "passed_time": 1.537437407,
                        "remaining_time": 0.6988351848,
                        "test": [
                          0.6106495065
                        ]
                      },
                      {
                        "iteration": 55,
                        "learn": [
                          0.6195701959
                        ],
                        "passed_time": 1.561992446,
                        "remaining_time": 0.6694253339,
                        "test": [
                          0.6100140762
                        ]
                      },
                      {
                        "iteration": 56,
                        "learn": [
                          0.618973362
                        ],
                        "passed_time": 1.589062073,
                        "remaining_time": 0.6412004854,
                        "test": [
                          0.6093353406
                        ]
                      },
                      {
                        "iteration": 57,
                        "learn": [
                          0.6185101384
                        ],
                        "passed_time": 1.606883214,
                        "remaining_time": 0.609507426,
                        "test": [
                          0.6088128456
                        ]
                      },
                      {
                        "iteration": 58,
                        "learn": [
                          0.6180487777
                        ],
                        "passed_time": 1.633544536,
                        "remaining_time": 0.581431106,
                        "test": [
                          0.6083005454
                        ]
                      },
                      {
                        "iteration": 59,
                        "learn": [
                          0.6175118389
                        ],
                        "passed_time": 1.660986192,
                        "remaining_time": 0.5536620642,
                        "test": [
                          0.6076926755
                        ]
                      },
                      {
                        "iteration": 60,
                        "learn": [
                          0.6169490305
                        ],
                        "passed_time": 1.686341066,
                        "remaining_time": 0.5252537746,
                        "test": [
                          0.607083841
                        ]
                      },
                      {
                        "iteration": 61,
                        "learn": [
                          0.6164642269
                        ],
                        "passed_time": 1.714021128,
                        "remaining_time": 0.4976190372,
                        "test": [
                          0.6065272422
                        ]
                      },
                      {
                        "iteration": 62,
                        "learn": [
                          0.6160598047
                        ],
                        "passed_time": 1.746137147,
                        "remaining_time": 0.4711798651,
                        "test": [
                          0.6060522195
                        ]
                      },
                      {
                        "iteration": 63,
                        "learn": [
                          0.615632491
                        ],
                        "passed_time": 1.77627767,
                        "remaining_time": 0.4440694176,
                        "test": [
                          0.6055704496
                        ]
                      },
                      {
                        "iteration": 64,
                        "learn": [
                          0.6152547845
                        ],
                        "passed_time": 1.803584554,
                        "remaining_time": 0.4162118201,
                        "test": [
                          0.6051238691
                        ]
                      },
                      {
                        "iteration": 65,
                        "learn": [
                          0.6148576655
                        ],
                        "passed_time": 1.831294021,
                        "remaining_time": 0.3884563076,
                        "test": [
                          0.604699033
                        ]
                      },
                      {
                        "iteration": 66,
                        "learn": [
                          0.614494695
                        ],
                        "passed_time": 1.859637932,
                        "remaining_time": 0.3608252704,
                        "test": [
                          0.6043291175
                        ]
                      },
                      {
                        "iteration": 67,
                        "learn": [
                          0.6141269632
                        ],
                        "passed_time": 1.887367533,
                        "remaining_time": 0.3330648587,
                        "test": [
                          0.6039229441
                        ]
                      },
                      {
                        "iteration": 68,
                        "learn": [
                          0.6138370894
                        ],
                        "passed_time": 1.914659002,
                        "remaining_time": 0.3052354931,
                        "test": [
                          0.6036331761
                        ]
                      },
                      {
                        "iteration": 69,
                        "learn": [
                          0.6135213711
                        ],
                        "passed_time": 1.955765958,
                        "remaining_time": 0.2793951368,
                        "test": [
                          0.6032675542
                        ]
                      },
                      {
                        "iteration": 70,
                        "learn": [
                          0.6132777867
                        ],
                        "passed_time": 1.984321371,
                        "remaining_time": 0.2515336949,
                        "test": [
                          0.6029709368
                        ]
                      },
                      {
                        "iteration": 71,
                        "learn": [
                          0.6130929381
                        ],
                        "passed_time": 2.000924728,
                        "remaining_time": 0.2223249698,
                        "test": [
                          0.6027487034
                        ]
                      },
                      {
                        "iteration": 72,
                        "learn": [
                          0.6128498112
                        ],
                        "passed_time": 2.028742836,
                        "remaining_time": 0.1945369842,
                        "test": [
                          0.6024517854
                        ]
                      },
                      {
                        "iteration": 73,
                        "learn": [
                          0.6125287455
                        ],
                        "passed_time": 2.055943732,
                        "remaining_time": 0.1666981405,
                        "test": [
                          0.6020902438
                        ]
                      },
                      {
                        "iteration": 74,
                        "learn": [
                          0.6122981805
                        ],
                        "passed_time": 2.088273302,
                        "remaining_time": 0.1392182201,
                        "test": [
                          0.6018613434
                        ]
                      },
                      {
                        "iteration": 75,
                        "learn": [
                          0.6120873771
                        ],
                        "passed_time": 2.115387703,
                        "remaining_time": 0.1113361949,
                        "test": [
                          0.601603654
                        ]
                      },
                      {
                        "iteration": 76,
                        "learn": [
                          0.611953777
                        ],
                        "passed_time": 2.132346807,
                        "remaining_time": 0.08307844704,
                        "test": [
                          0.6014383936
                        ]
                      },
                      {
                        "iteration": 77,
                        "learn": [
                          0.6117317343
                        ],
                        "passed_time": 2.164022361,
                        "remaining_time": 0.05548775284,
                        "test": [
                          0.6012092033
                        ]
                      },
                      {
                        "iteration": 78,
                        "learn": [
                          0.6115275304
                        ],
                        "passed_time": 2.191606693,
                        "remaining_time": 0.02774185688,
                        "test": [
                          0.6009949056
                        ]
                      },
                      {
                        "iteration": 79,
                        "learn": [
                          0.6113817148
                        ],
                        "passed_time": 2.219670872,
                        "remaining_time": 0,
                        "test": [
                          0.6008144776
                        ]
                      }
                    ],
                    "meta": {
                      "iteration_count": 80,
                      "launch_mode": "Train",
                      "learn_metrics": [
                        {
                          "best_value": "Min",
                          "name": "Poisson"
                        }
                      ],
                      "learn_sets": [
                        "learn"
                      ],
                      "name": "experiment",
                      "parameters": "",
                      "test_metrics": [
                        {
                          "best_value": "Min",
                          "name": "Poisson"
                        }
                      ],
                      "test_sets": [
                        "test"
                      ]
                    }
                  },
                  "passed_iterations": 79,
                  "total_iterations": 80
                },
                "name": "catboost_info",
                "path": "catboost_info"
              }
            },
            "layout": "IPY_MODEL_778bc305cd4e4a3e9324a5c3b4539e77"
          }
        }
      }
    }
  },
  "nbformat": 4,
  "nbformat_minor": 0
}
